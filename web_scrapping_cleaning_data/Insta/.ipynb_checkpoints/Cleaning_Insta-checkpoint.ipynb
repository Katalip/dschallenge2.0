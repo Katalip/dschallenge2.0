{
 "cells": [
  {
   "cell_type": "code",
   "execution_count": 3,
   "metadata": {},
   "outputs": [],
   "source": [
    "import pandas as pd\n",
    "import numpy as np\n",
    "import warnings\n",
    "warnings.filterwarnings('ignore')"
   ]
  },
  {
   "cell_type": "code",
   "execution_count": 143,
   "metadata": {},
   "outputs": [],
   "source": [
    "df = pd.read_excel('data/raw_insta/insta_573_2019-11-16.xlsx', index_col = 0)"
   ]
  },
  {
   "cell_type": "code",
   "execution_count": 133,
   "metadata": {},
   "outputs": [
    {
     "data": {
      "text/html": [
       "<div>\n",
       "<style scoped>\n",
       "    .dataframe tbody tr th:only-of-type {\n",
       "        vertical-align: middle;\n",
       "    }\n",
       "\n",
       "    .dataframe tbody tr th {\n",
       "        vertical-align: top;\n",
       "    }\n",
       "\n",
       "    .dataframe thead th {\n",
       "        text-align: right;\n",
       "    }\n",
       "</style>\n",
       "<table border=\"1\" class=\"dataframe\">\n",
       "  <thead>\n",
       "    <tr style=\"text-align: right;\">\n",
       "      <th></th>\n",
       "      <th>Account_name</th>\n",
       "      <th>Name</th>\n",
       "      <th>Stats</th>\n",
       "      <th>Bio</th>\n",
       "      <th>Total_stats</th>\n",
       "      <th>Posts</th>\n",
       "      <th>Posts_info</th>\n",
       "      <th>Followings</th>\n",
       "    </tr>\n",
       "  </thead>\n",
       "  <tbody>\n",
       "    <tr>\n",
       "      <th>0</th>\n",
       "      <td>nellon_16</td>\n",
       "      <td>Нюсик Анастасия</td>\n",
       "      <td>25\\nMedia\\n253\\nFollowers\\n478\\nFollowings</td>\n",
       "      <td>Я очень творческая личность ... ..16лет занима...</td>\n",
       "      <td>['Total Likes\\n774', 'Average Likes\\n43', 'Tot...</td>\n",
       "      <td>['', 'Осень, такая осень ', 'ADVERTISEMENT', '...</td>\n",
       "      <td>['2 days ago\\n31 likes\\n7 comments', '21 days ...</td>\n",
       "      <td>['2 angelina_lovedogs\\n\\nAngelina Sherbinina',...</td>\n",
       "    </tr>\n",
       "    <tr>\n",
       "      <th>1</th>\n",
       "      <td>assemzzhan</td>\n",
       "      <td>ASSEMZHAN KALIM</td>\n",
       "      <td>137\\nMedia\\n1K\\nFollowers\\n473\\nFollowings</td>\n",
       "      <td>NaN</td>\n",
       "      <td>['Total Likes\\n2.740', 'Average Likes\\n153', '...</td>\n",
       "      <td>['the most popular locations to take a photo  ...</td>\n",
       "      <td>['19 days ago 173 likes 5 comments', '20 days ...</td>\n",
       "      <td>['1 hernameisalbina\\n\\nАльбина', '4 lori.rusla...</td>\n",
       "    </tr>\n",
       "    <tr>\n",
       "      <th>2</th>\n",
       "      <td>d.karimovaa_</td>\n",
       "      <td>Diana Karimova</td>\n",
       "      <td>43\\nMedia\\n896\\nFollowers\\n160\\nFollowings</td>\n",
       "      <td>kazakh girl Mama BOSS</td>\n",
       "      <td>['Total Likes\\n2.238', 'Average Likes\\n125', '...</td>\n",
       "      <td>['🌪', 'Я лишь сделаю вид, что у тебя есть шанс...</td>\n",
       "      <td>['6 days ago 40 likes 5 comments', '1 months a...</td>\n",
       "      <td>['1 ssabzerro\\n\\n🖤saba🖤', '2 ooh_myglob', '3 d...</td>\n",
       "    </tr>\n",
       "    <tr>\n",
       "      <th>3</th>\n",
       "      <td>_i_am_daya</td>\n",
       "      <td>Aidai</td>\n",
       "      <td>9\\nMedia\\n76\\nFollowers\\n137\\nFollowings</td>\n",
       "      <td>Не любите людей, любите еду</td>\n",
       "      <td>['Total Likes\\n288', 'Average Likes\\n32', 'Tot...</td>\n",
       "      <td>['#23 сентября#день кыргызского языка#ну и шар...</td>\n",
       "      <td>['1 months ago 27 likes 8 comments', '1 months...</td>\n",
       "      <td>['1 _pet_rel_2002\\n\\nFind yourself', '2 satiew...</td>\n",
       "    </tr>\n",
       "    <tr>\n",
       "      <th>4</th>\n",
       "      <td>sua.xxa</td>\n",
       "      <td>А</td>\n",
       "      <td>7\\nMedia\\n509\\nFollowers\\n287\\nFollowings</td>\n",
       "      <td>16 @suaa._.a</td>\n",
       "      <td>['Total Likes\\n933', 'Average Likes\\n156', 'To...</td>\n",
       "      <td>[\"If you need me, i'm here\", \"don't compare yo...</td>\n",
       "      <td>['1 months ago 116 likes 22 comments', '2 mont...</td>\n",
       "      <td>['1 im4nberpl.ent\\n\\n~𝔸𝕃𝕀6𝕆𝕂~', '2 ssabzerro\\n...</td>\n",
       "    </tr>\n",
       "  </tbody>\n",
       "</table>\n",
       "</div>"
      ],
      "text/plain": [
       "   Account_name             Name                                       Stats  \\\n",
       "0     nellon_16  Нюсик Анастасия  25\\nMedia\\n253\\nFollowers\\n478\\nFollowings   \n",
       "1    assemzzhan  ASSEMZHAN KALIM  137\\nMedia\\n1K\\nFollowers\\n473\\nFollowings   \n",
       "2  d.karimovaa_   Diana Karimova  43\\nMedia\\n896\\nFollowers\\n160\\nFollowings   \n",
       "3    _i_am_daya            Aidai    9\\nMedia\\n76\\nFollowers\\n137\\nFollowings   \n",
       "4       sua.xxa                А   7\\nMedia\\n509\\nFollowers\\n287\\nFollowings   \n",
       "\n",
       "                                                 Bio  \\\n",
       "0  Я очень творческая личность ... ..16лет занима...   \n",
       "1                                                NaN   \n",
       "2                              kazakh girl Mama BOSS   \n",
       "3                        Не любите людей, любите еду   \n",
       "4                                       16 @suaa._.a   \n",
       "\n",
       "                                         Total_stats  \\\n",
       "0  ['Total Likes\\n774', 'Average Likes\\n43', 'Tot...   \n",
       "1  ['Total Likes\\n2.740', 'Average Likes\\n153', '...   \n",
       "2  ['Total Likes\\n2.238', 'Average Likes\\n125', '...   \n",
       "3  ['Total Likes\\n288', 'Average Likes\\n32', 'Tot...   \n",
       "4  ['Total Likes\\n933', 'Average Likes\\n156', 'To...   \n",
       "\n",
       "                                               Posts  \\\n",
       "0  ['', 'Осень, такая осень ', 'ADVERTISEMENT', '...   \n",
       "1  ['the most popular locations to take a photo  ...   \n",
       "2  ['🌪', 'Я лишь сделаю вид, что у тебя есть шанс...   \n",
       "3  ['#23 сентября#день кыргызского языка#ну и шар...   \n",
       "4  [\"If you need me, i'm here\", \"don't compare yo...   \n",
       "\n",
       "                                          Posts_info  \\\n",
       "0  ['2 days ago\\n31 likes\\n7 comments', '21 days ...   \n",
       "1  ['19 days ago 173 likes 5 comments', '20 days ...   \n",
       "2  ['6 days ago 40 likes 5 comments', '1 months a...   \n",
       "3  ['1 months ago 27 likes 8 comments', '1 months...   \n",
       "4  ['1 months ago 116 likes 22 comments', '2 mont...   \n",
       "\n",
       "                                          Followings  \n",
       "0  ['2 angelina_lovedogs\\n\\nAngelina Sherbinina',...  \n",
       "1  ['1 hernameisalbina\\n\\nАльбина', '4 lori.rusla...  \n",
       "2  ['1 ssabzerro\\n\\n🖤saba🖤', '2 ooh_myglob', '3 d...  \n",
       "3  ['1 _pet_rel_2002\\n\\nFind yourself', '2 satiew...  \n",
       "4  ['1 im4nberpl.ent\\n\\n~𝔸𝕃𝕀6𝕆𝕂~', '2 ssabzerro\\n...  "
      ]
     },
     "execution_count": 133,
     "metadata": {},
     "output_type": "execute_result"
    }
   ],
   "source": [
    "df.head(5)"
   ]
  },
  {
   "cell_type": "code",
   "execution_count": 144,
   "metadata": {},
   "outputs": [
    {
     "name": "stdout",
     "output_type": "stream",
     "text": [
      "<class 'pandas.core.frame.DataFrame'>\n",
      "Int64Index: 573 entries, 0 to 572\n",
      "Data columns (total 8 columns):\n",
      "Account_name    569 non-null object\n",
      "Name            561 non-null object\n",
      "Stats           569 non-null object\n",
      "Bio             364 non-null object\n",
      "Total_stats     573 non-null object\n",
      "Posts           573 non-null object\n",
      "Posts_info      573 non-null object\n",
      "Followings      573 non-null object\n",
      "dtypes: object(8)\n",
      "memory usage: 40.3+ KB\n"
     ]
    }
   ],
   "source": [
    "df.info()"
   ]
  },
  {
   "cell_type": "code",
   "execution_count": 145,
   "metadata": {},
   "outputs": [],
   "source": [
    "def drop_null_names_posts(df):\n",
    "    df.drop(df[df['Account_name'].isnull()].index, inplace=True)\n",
    "    df.drop(df[df['Name'].isnull()].index, inplace=True)\n",
    "    df = df[df['Posts'] != '[]']\n",
    "    return df"
   ]
  },
  {
   "cell_type": "code",
   "execution_count": 39,
   "metadata": {},
   "outputs": [],
   "source": [
    "def process_stats(df):\n",
    "    df['Media'] = df['Stats'].apply(lambda x: x.split('\\n')[0])\n",
    "    df['Followers'] = df['Stats'].apply(lambda x: x.split('\\n')[2])\n",
    "    df['Followings'] = df['Stats'].apply(lambda x: x.split('\\n')[4])\n",
    "    df.drop('Stats', axis = 1, inplace=True)\n",
    "    return df"
   ]
  },
  {
   "cell_type": "code",
   "execution_count": 63,
   "metadata": {},
   "outputs": [],
   "source": [
    "def process_bio(df):\n",
    "    df['Bio'] = df['Bio'].fillna('Unfilled')\n",
    "    return df"
   ]
  },
  {
   "cell_type": "code",
   "execution_count": 109,
   "metadata": {},
   "outputs": [],
   "source": [
    "def process_total_stats(df):\n",
    "    df['Total_likes'] = df['Total_stats'].apply(lambda x: x.split(',')[0].split('n')[1].rstrip(\"'\"))\n",
    "    df['Average_likes'] = df['Total_stats'].apply(lambda x: x.split(',')[1].split('n')[1].rstrip(\"'\"))\n",
    "    df['Total_comments'] = df['Total_stats'].apply(lambda x: x.split(',')[2].split('n')[-1].rstrip(\"'\"))\n",
    "    df['Average_comments'] = df['Total_stats'].apply(lambda x: x.split(',')[3].split('n')[-1].rstrip(\"']\"))\n",
    "    df.drop('Total_stats', axis=1, inplace = True)\n",
    "    return df"
   ]
  },
  {
   "cell_type": "code",
   "execution_count": 124,
   "metadata": {},
   "outputs": [],
   "source": [
    "def move_posts_info(df):\n",
    "    df['Posts_text'] = df['Posts']\n",
    "    df['Posts_stats'] = df['Posts_info'].apply(lambda x: x.split(\"\\\\n\"))\n",
    "    df.drop(['Posts', 'Posts_info'], axis=1, inplace = True)\n",
    "    return df"
   ]
  },
  {
   "cell_type": "code",
   "execution_count": null,
   "metadata": {},
   "outputs": [],
   "source": [
    "df = drop_null_names_posts(df)\n",
    "df = process_stats(df)\n",
    "df = process_bio(df)\n",
    "df = process_total_stats(df)\n",
    "df = move_posts_info(df)"
   ]
  },
  {
   "cell_type": "code",
   "execution_count": 151,
   "metadata": {},
   "outputs": [
    {
     "name": "stdout",
     "output_type": "stream",
     "text": [
      "<class 'pandas.core.frame.DataFrame'>\n",
      "Int64Index: 485 entries, 0 to 572\n",
      "Data columns (total 12 columns):\n",
      "Account_name        485 non-null object\n",
      "Name                485 non-null object\n",
      "Bio                 485 non-null object\n",
      "Followings          485 non-null object\n",
      "Media               485 non-null object\n",
      "Followers           485 non-null object\n",
      "Total_likes         485 non-null object\n",
      "Average_likes       485 non-null object\n",
      "Total_comments      485 non-null object\n",
      "Average_comments    485 non-null object\n",
      "Posts_text          485 non-null object\n",
      "Posts_stats         485 non-null object\n",
      "dtypes: object(12)\n",
      "memory usage: 49.3+ KB\n"
     ]
    }
   ],
   "source": [
    "df.info()"
   ]
  },
  {
   "cell_type": "code",
   "execution_count": 131,
   "metadata": {},
   "outputs": [],
   "source": [
    "#10-17\n",
    "df.to_excel('data/for_further_processing/insta_10_17_for_further.xlsx')"
   ]
  },
  {
   "cell_type": "code",
   "execution_count": 152,
   "metadata": {},
   "outputs": [],
   "source": [
    "#17-21\n",
    "df.to_excel('data/for_further_processing/insta_17_21_for_further.xlsx')"
   ]
  }
 ],
 "metadata": {
  "kernelspec": {
   "display_name": "Python 3",
   "language": "python",
   "name": "python3"
  },
  "language_info": {
   "codemirror_mode": {
    "name": "ipython",
    "version": 3
   },
   "file_extension": ".py",
   "mimetype": "text/x-python",
   "name": "python",
   "nbconvert_exporter": "python",
   "pygments_lexer": "ipython3",
   "version": "3.7.3"
  }
 },
 "nbformat": 4,
 "nbformat_minor": 2
}
