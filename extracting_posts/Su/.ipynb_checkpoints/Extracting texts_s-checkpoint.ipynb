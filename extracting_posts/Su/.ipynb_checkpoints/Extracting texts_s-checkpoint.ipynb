{
 "cells": [
  {
   "cell_type": "code",
   "execution_count": 1,
   "metadata": {},
   "outputs": [],
   "source": [
    "import pandas as pd\n",
    "import numpy as np"
   ]
  },
  {
   "cell_type": "code",
   "execution_count": 2,
   "metadata": {},
   "outputs": [],
   "source": [
    "import warnings\n",
    "warnings.filterwarnings('ignore')"
   ]
  },
  {
   "cell_type": "markdown",
   "metadata": {},
   "source": [
    "### Starting to form dataset of labeled posts"
   ]
  },
  {
   "cell_type": "code",
   "execution_count": 73,
   "metadata": {},
   "outputs": [],
   "source": [
    "#Suicide_posts\n",
    "#df = pd.read_excel('../Suicide_ids/for_further_processing/vk_s_for_further.xlsx', index_col = 0)\n",
    "df = pd.read_excel('su_2.xlsx', index_col = 0)"
   ]
  },
  {
   "cell_type": "code",
   "execution_count": 74,
   "metadata": {},
   "outputs": [
    {
     "data": {
      "text/plain": [
       "(1546, 3)"
      ]
     },
     "execution_count": 74,
     "metadata": {},
     "output_type": "execute_result"
    }
   ],
   "source": [
    "df.shape"
   ]
  },
  {
   "cell_type": "code",
   "execution_count": 5,
   "metadata": {},
   "outputs": [],
   "source": [
    "df_text = pd.DataFrame(columns=['Text', 'Time', 'Possible_type'])"
   ]
  },
  {
   "cell_type": "code",
   "execution_count": 7,
   "metadata": {},
   "outputs": [],
   "source": [
    "#d = df['Last_10_posts']"
   ]
  },
  {
   "cell_type": "code",
   "execution_count": 107,
   "metadata": {},
   "outputs": [],
   "source": [
    "from ast import literal_eval"
   ]
  },
  {
   "cell_type": "code",
   "execution_count": 108,
   "metadata": {},
   "outputs": [],
   "source": [
    "d = d.apply(lambda x: literal_eval(x))"
   ]
  },
  {
   "cell_type": "code",
   "execution_count": 109,
   "metadata": {},
   "outputs": [],
   "source": [
    "posts_text = []\n",
    "posts_time = []"
   ]
  },
  {
   "cell_type": "code",
   "execution_count": 110,
   "metadata": {},
   "outputs": [],
   "source": [
    "for i in d:\n",
    "    for j in i:\n",
    "        posts_text.append(j['text'])\n",
    "        posts_time.append(j['date'])"
   ]
  },
  {
   "cell_type": "code",
   "execution_count": 111,
   "metadata": {},
   "outputs": [],
   "source": [
    "df_text['Text'] = posts_text\n",
    "df_text['Time'] = posts_time\n",
    "df_text['Possible_type'] = 'Sucidal'"
   ]
  },
  {
   "cell_type": "code",
   "execution_count": 58,
   "metadata": {},
   "outputs": [],
   "source": [
    "t = 0"
   ]
  },
  {
   "cell_type": "code",
   "execution_count": 12,
   "metadata": {},
   "outputs": [],
   "source": [
    "df_text = df.copy()"
   ]
  },
  {
   "cell_type": "code",
   "execution_count": 78,
   "metadata": {},
   "outputs": [
    {
     "name": "stdout",
     "output_type": "stream",
     "text": [
      "Баягы откен заманда кус аулап кун коретин бир адам омир сурипти.Ол кунде орман жагалап кустарга какпан койады екен.Кундердин бир кунинде онын какпанына 4 турли кус тусипти (Карга,когершин Торгай жане Сауыскан)Сыртан бакылап турган аншы кенет бир тылсым дунеге тап болады.Тордагы торт кустын атауы кус болганымен олар артурли атка ие,омир суру кагидалары\n",
      "Показать полностью…\n",
      "######################################\n",
      "x\n",
      "Омир барда турли сынак пен сабак та бар.Кинайды,киналасын жылайсын,жалынасын кейде себепсиз токырауга ушырайсын.Бул арине сынак.Сурак кооооп.жауап жалгыз------>ШЫДА............\n",
      "Баска да амал барма?Бакыт дегенди омир бойына армандап журетиндерге........\n",
      "Б-ОЛ СОКЫРДЫ КОРГЕНДЕ СЕНИН САУ ЕКЕНИН....\n",
      "А-АЙЫКПАС ДЕРТКЕ ШАЛДЫККАНДАРДЫ КОРГЕНДЕ...\n",
      "К-МУЛДЕ ПЕРЗЕНТИ ЖОКТАРДЫ КОРГЕНДЕ ШУКИР ДЕ...\n",
      "Ы-АКЕ ШЕШЕГЕ ЗАР ЖЕТИМДИ КОРГЕНДЕ.\n",
      "Т-ОСЫНДАЙ БИБИТ ОМИРДЕ ЖАСАП ЖАТКАНЫНА ТАУБА ДЕ.\n",
      "Омир сенимен менен сурамайды не калайтынынды.Мандайга жазганан артыгы жок.\n",
      "######################################\n",
      "a\n",
      "Мени ренжитип,Жылаткын келсе,урып урсып курбоска былшылдаганан Менин сагым сынып,ЖыламаймынМенин назиктигим журегимде Журегимнин есигин жайлап алдап арбап аша алса Нагыз Гулисонда жасырынып жатыр3\n",
      "######################################\n",
      "a\n",
      "Ал не болды?\n",
      "Скора Гулеке мадьгерой\n",
      "Урып турго журек.\n",
      "Жду толка\n",
      "######################################\n",
      "stop\n"
     ]
    }
   ],
   "source": [
    "for i in range(len(df_text)):\n",
    "    print(df_text.iloc[t,0])\n",
    "    print('######################################')\n",
    "    deletion = input()\n",
    "    if(deletion == 'x'):\n",
    "        df_text.drop(t, inplace=True)\n",
    "    elif(deletion == 'stop'):\n",
    "        break\n",
    "    elif(deletion == 'a'):\n",
    "        pass\n",
    "    t += 1"
   ]
  },
  {
   "cell_type": "code",
   "execution_count": 79,
   "metadata": {},
   "outputs": [
    {
     "data": {
      "text/plain": [
       "(1079, 3)"
      ]
     },
     "execution_count": 79,
     "metadata": {},
     "output_type": "execute_result"
    }
   ],
   "source": [
    "df_text.shape"
   ]
  },
  {
   "cell_type": "code",
   "execution_count": 80,
   "metadata": {},
   "outputs": [
    {
     "data": {
      "text/plain": [
       "302"
      ]
     },
     "execution_count": 80,
     "metadata": {},
     "output_type": "execute_result"
    }
   ],
   "source": [
    "t"
   ]
  },
  {
   "cell_type": "code",
   "execution_count": 71,
   "metadata": {},
   "outputs": [
    {
     "data": {
      "text/plain": [
       "Text             Тамаша диета: өзіңізді өмірлік қуатпен толтыры...\n",
       "Time                                                26 окт в 14:43\n",
       "Possible_type                                              Sucidal\n",
       "Name: 462, dtype: object"
      ]
     },
     "execution_count": 71,
     "metadata": {},
     "output_type": "execute_result"
    }
   ],
   "source": [
    "df_text.iloc[t]"
   ]
  },
  {
   "cell_type": "code",
   "execution_count": 52,
   "metadata": {},
   "outputs": [
    {
     "data": {
      "text/plain": [
       "(1310, 3)"
      ]
     },
     "execution_count": 52,
     "metadata": {},
     "output_type": "execute_result"
    }
   ],
   "source": [
    "df_text.shape"
   ]
  },
  {
   "cell_type": "code",
   "execution_count": 53,
   "metadata": {},
   "outputs": [
    {
     "data": {
      "text/plain": [
       "1379"
      ]
     },
     "execution_count": 53,
     "metadata": {},
     "output_type": "execute_result"
    }
   ],
   "source": [
    "t"
   ]
  },
  {
   "cell_type": "code",
   "execution_count": 81,
   "metadata": {},
   "outputs": [],
   "source": [
    "df_text.to_excel('filtered_s_3.xlsx')"
   ]
  },
  {
   "cell_type": "code",
   "execution_count": 57,
   "metadata": {},
   "outputs": [],
   "source": [
    "df_text = df_text.reset_index().drop('index', axis=1)"
   ]
  },
  {
   "cell_type": "code",
   "execution_count": 79,
   "metadata": {},
   "outputs": [],
   "source": [
    "from googletrans import Translator"
   ]
  },
  {
   "cell_type": "code",
   "execution_count": 80,
   "metadata": {},
   "outputs": [],
   "source": [
    "translator = Translator()"
   ]
  },
  {
   "cell_type": "code",
   "execution_count": 21,
   "metadata": {},
   "outputs": [],
   "source": [
    "import re, string"
   ]
  },
  {
   "cell_type": "code",
   "execution_count": 8,
   "metadata": {},
   "outputs": [],
   "source": [
    "df.reset_index(inplace=True)"
   ]
  },
  {
   "cell_type": "code",
   "execution_count": 10,
   "metadata": {},
   "outputs": [],
   "source": [
    "df.drop('index',axis=1, inplace=True)"
   ]
  },
  {
   "cell_type": "code",
   "execution_count": 22,
   "metadata": {},
   "outputs": [
    {
     "data": {
      "text/plain": [
       "'1231dsfsd'"
      ]
     },
     "execution_count": 22,
     "metadata": {},
     "output_type": "execute_result"
    }
   ],
   "source": [
    "pattern = re.compile('[\\W_]+')\n",
    "pattern.sub('', '#%#$%#1231 \\ndsfsd')"
   ]
  },
  {
   "cell_type": "code",
   "execution_count": 38,
   "metadata": {},
   "outputs": [],
   "source": [
    "def prepare_text(ind_1, ind_2, df):\n",
    "    df[ind_1:ind_2]['Text'] = df[ind_1:ind_2]['Text'].apply(lambda x: pattern.sub(' ', x.lower())) \n",
    "    df[ind_1:ind_2]['Text'] = df[ind_1:ind_2]['Text'].apply(lambda x: x.translate(str.maketrans('', '', string.punctuation))) \n",
    "    return df"
   ]
  },
  {
   "cell_type": "code",
   "execution_count": 39,
   "metadata": {},
   "outputs": [],
   "source": [
    "df[135:202] = prepare_text(135,202,df)"
   ]
  },
  {
   "cell_type": "code",
   "execution_count": 41,
   "metadata": {},
   "outputs": [],
   "source": [
    "df[135:202]['Translation'] = df[135:202]['Text'].apply(lambda x: translatorator.translate(x).text) "
   ]
  },
  {
   "cell_type": "code",
   "execution_count": 50,
   "metadata": {},
   "outputs": [
    {
     "data": {
      "text/plain": [
       "'мен жақсымын'"
      ]
     },
     "execution_count": 50,
     "metadata": {},
     "output_type": "execute_result"
    }
   ],
   "source": [
    "translator.translate('I am fine', dest='kk').text"
   ]
  },
  {
   "cell_type": "code",
   "execution_count": 51,
   "metadata": {},
   "outputs": [],
   "source": [
    "ind_1 = 202\n",
    "ind_2 = 758"
   ]
  },
  {
   "cell_type": "code",
   "execution_count": 52,
   "metadata": {},
   "outputs": [],
   "source": [
    "df[ind_1:ind_2]['Translation'] = df[ind_1:ind_2]['Translation'].apply(lambda x: pattern.sub(' ', x.lower())) \n",
    "df[ind_1:ind_2]['Translation'] = df[ind_1:ind_2]['Translation'].apply(lambda x: x.translate(str.maketrans('', '', string.punctuation))) "
   ]
  },
  {
   "cell_type": "code",
   "execution_count": 69,
   "metadata": {},
   "outputs": [],
   "source": [
    "df.to_excel('su_2.xlsx')"
   ]
  },
  {
   "cell_type": "code",
   "execution_count": 77,
   "metadata": {},
   "outputs": [],
   "source": [
    "df[1434:]['Text'] = df[1434:]['Text'].apply(lambda x: pattern.sub(' ', x.lower())) \n",
    "df[1434:]['Text'] = df[1434:]['Text'].apply(lambda x: x.translate(str.maketrans('', '', string.punctuation))) "
   ]
  },
  {
   "cell_type": "code",
   "execution_count": 83,
   "metadata": {},
   "outputs": [],
   "source": [
    "df[1434:]['Translation'] = df[1434:]['Text'].apply(lambda x: translator.translate(x).text) "
   ]
  },
  {
   "cell_type": "code",
   "execution_count": 84,
   "metadata": {},
   "outputs": [
    {
     "data": {
      "text/html": [
       "<div>\n",
       "<style scoped>\n",
       "    .dataframe tbody tr th:only-of-type {\n",
       "        vertical-align: middle;\n",
       "    }\n",
       "\n",
       "    .dataframe tbody tr th {\n",
       "        vertical-align: top;\n",
       "    }\n",
       "\n",
       "    .dataframe thead th {\n",
       "        text-align: right;\n",
       "    }\n",
       "</style>\n",
       "<table border=\"1\" class=\"dataframe\">\n",
       "  <thead>\n",
       "    <tr style=\"text-align: right;\">\n",
       "      <th></th>\n",
       "      <th>Text</th>\n",
       "      <th>Possible_type</th>\n",
       "      <th>Translation</th>\n",
       "    </tr>\n",
       "  </thead>\n",
       "  <tbody>\n",
       "    <tr>\n",
       "      <th>1434</th>\n",
       "      <td>тунилдим</td>\n",
       "      <td>Suicidal</td>\n",
       "      <td>tunildim</td>\n",
       "    </tr>\n",
       "    <tr>\n",
       "      <th>1435</th>\n",
       "      <td>кайгырып кеттим</td>\n",
       "      <td>Suicidal</td>\n",
       "      <td>I was troubled in</td>\n",
       "    </tr>\n",
       "    <tr>\n",
       "      <th>1436</th>\n",
       "      <td>шаршап кеттім</td>\n",
       "      <td>Suicidal</td>\n",
       "      <td>tired</td>\n",
       "    </tr>\n",
       "    <tr>\n",
       "      <th>1437</th>\n",
       "      <td>барлыгынан шаршадым</td>\n",
       "      <td>Suicidal</td>\n",
       "      <td>I've had to engage</td>\n",
       "    </tr>\n",
       "    <tr>\n",
       "      <th>1438</th>\n",
       "      <td>баринен шаршадым</td>\n",
       "      <td>Suicidal</td>\n",
       "      <td>I've had from Bari</td>\n",
       "    </tr>\n",
       "    <tr>\n",
       "      <th>1439</th>\n",
       "      <td>отирик күлкі отирик достардан абден шаршадым</td>\n",
       "      <td>Suicidal</td>\n",
       "      <td>otirik otirik fun I've had friends Abell</td>\n",
       "    </tr>\n",
       "    <tr>\n",
       "      <th>1440</th>\n",
       "      <td>шаршадым жамандардан озин ғана ойлайтын адамда...</td>\n",
       "      <td>Suicidal</td>\n",
       "      <td>tired of people think only bad ozïn</td>\n",
       "    </tr>\n",
       "    <tr>\n",
       "      <th>1441</th>\n",
       "      <td>баринен шаршадым олгим келеди</td>\n",
       "      <td>Suicidal</td>\n",
       "      <td>Barry'm corresponds olgim</td>\n",
       "    </tr>\n",
       "    <tr>\n",
       "      <th>1442</th>\n",
       "      <td>олгим келедb түнилдим омир ден олгим келеди жа...</td>\n",
       "      <td>Suicidal</td>\n",
       "      <td>olgim ​​keledb tünildim Ayala olgim ​​jalıktım...</td>\n",
       "    </tr>\n",
       "    <tr>\n",
       "      <th>1443</th>\n",
       "      <td>сынагынан жалыктым жалган омирдин олгим келеди...</td>\n",
       "      <td>Suicidal</td>\n",
       "      <td>jalıktım false test corresponds Whitenake olgi...</td>\n",
       "    </tr>\n",
       "    <tr>\n",
       "      <th>1444</th>\n",
       "      <td>журегим жаралы толы мунга сан сынак санамды ул...</td>\n",
       "      <td>Suicidal</td>\n",
       "      <td>Johnny made full Moon to the left of the conti...</td>\n",
       "    </tr>\n",
       "    <tr>\n",
       "      <th>1445</th>\n",
       "      <td>сынакка толы тагдыр</td>\n",
       "      <td>Suicidal</td>\n",
       "      <td>a contestant is full of Fate</td>\n",
       "    </tr>\n",
       "    <tr>\n",
       "      <th>1446</th>\n",
       "      <td>күлгим келеди күле алмаймын жылагым келеди жыл...</td>\n",
       "      <td>Suicidal</td>\n",
       "      <td>I can not cry, I can not laugh at külgïm expre...</td>\n",
       "    </tr>\n",
       "    <tr>\n",
       "      <th>1447</th>\n",
       "      <td>ал кейде сол исиме окинемин кейде омирден түни...</td>\n",
       "      <td>Suicidal</td>\n",
       "      <td>sometimes, she occasionally left isime okinemi...</td>\n",
       "    </tr>\n",
       "    <tr>\n",
       "      <th>1448</th>\n",
       "      <td>кейде армандарым орындалмағанына налимын кейде...</td>\n",
       "      <td>Suicidal</td>\n",
       "      <td>My dream is not fulfilled in the sometimes dre...</td>\n",
       "    </tr>\n",
       "    <tr>\n",
       "      <th>1449</th>\n",
       "      <td>өлгим келеди қалай онай олип калуга болады ком...</td>\n",
       "      <td>Suicidal</td>\n",
       "      <td>ölgïm expressed how easily olïp Kaluga komekte...</td>\n",
       "    </tr>\n",
       "    <tr>\n",
       "      <th>1450</th>\n",
       "      <td>гранттан куладым ата анамнан туысқандардан уят...</td>\n",
       "      <td>Suicidal</td>\n",
       "      <td>Mom fell grants ashamed of kin would olgim</td>\n",
       "    </tr>\n",
       "    <tr>\n",
       "      <th>1451</th>\n",
       "      <td>конилим болмаи тур журегим жылап жатр мении ол...</td>\n",
       "      <td>Suicidal</td>\n",
       "      <td>Fred Roth Jan could not want me olgim</td>\n",
       "    </tr>\n",
       "    <tr>\n",
       "      <th>1452</th>\n",
       "      <td>мен олгим келеди жогалтатын ешкім жоқ анам жыл...</td>\n",
       "      <td>Suicidal</td>\n",
       "      <td>and olgïm expressed jogaltatın no one except m...</td>\n",
       "    </tr>\n",
       "    <tr>\n",
       "      <th>1453</th>\n",
       "      <td>катты коркып журмин кейде типти жылап олгим ке...</td>\n",
       "      <td>Suicidal</td>\n",
       "      <td>toploader sometimes afraid typical letter corr...</td>\n",
       "    </tr>\n",
       "    <tr>\n",
       "      <th>1454</th>\n",
       "      <td>менин жыным келеди ашулымын бир жагынан жылагы...</td>\n",
       "      <td>Suicidal</td>\n",
       "      <td>I want to sex mad on the one hand, corresponds...</td>\n",
       "    </tr>\n",
       "    <tr>\n",
       "      <th>1455</th>\n",
       "      <td>барлыгынан шаршадым ашуымды шыгаргым келеді</td>\n",
       "      <td>Suicidal</td>\n",
       "      <td>I've had to engage aşuımdı'd şıgargım</td>\n",
       "    </tr>\n",
       "    <tr>\n",
       "      <th>1456</th>\n",
       "      <td>достарыма да жан досыма да ренжулимин бирак ре...</td>\n",
       "      <td>Suicidal</td>\n",
       "      <td>friends, best friend, a little renjulimin renj...</td>\n",
       "    </tr>\n",
       "    <tr>\n",
       "      <th>1457</th>\n",
       "      <td>енди болды ешким не айтканын тындамаймын ешким...</td>\n",
       "      <td>Suicidal</td>\n",
       "      <td>Farhad said that what was eşkim tındamaymın eş...</td>\n",
       "    </tr>\n",
       "    <tr>\n",
       "      <th>1458</th>\n",
       "      <td>не сурасада бердим мении жыныма тиседе мени ма...</td>\n",
       "      <td>Suicidal</td>\n",
       "      <td>I have to ask what are my genitals off me maza...</td>\n",
       "    </tr>\n",
       "    <tr>\n",
       "      <th>1459</th>\n",
       "      <td>мени кызым тастап кетті менин олгим келеди</td>\n",
       "      <td>Suicidal</td>\n",
       "      <td>I walked my girlfriend want olgim</td>\n",
       "    </tr>\n",
       "    <tr>\n",
       "      <th>1460</th>\n",
       "      <td>кыз балам озегимди ортеп барады не истеримди б...</td>\n",
       "      <td>Suicidal</td>\n",
       "      <td>What's a girl child is running ozegimdi Ortega...</td>\n",
       "    </tr>\n",
       "    <tr>\n",
       "      <th>1461</th>\n",
       "      <td>оз суйген адамыма басымды тик устап турмыс кур...</td>\n",
       "      <td>Suicidal</td>\n",
       "      <td>cease moon poachers, who helped pressure helic...</td>\n",
       "    </tr>\n",
       "    <tr>\n",
       "      <th>1462</th>\n",
       "      <td>осылай калам турмыс қурмайм деп жумыска салынд...</td>\n",
       "      <td>Suicidal</td>\n",
       "      <td>I would say that's shined, қurmaym employment ...</td>\n",
       "    </tr>\n",
       "    <tr>\n",
       "      <th>1463</th>\n",
       "      <td>оте киналып жан сырымды айтатын бир де бир жан...</td>\n",
       "      <td>Suicidal</td>\n",
       "      <td>There is not a creation at a speed kina honest...</td>\n",
       "    </tr>\n",
       "    <tr>\n",
       "      <th>...</th>\n",
       "      <td>...</td>\n",
       "      <td>...</td>\n",
       "      <td>...</td>\n",
       "    </tr>\n",
       "    <tr>\n",
       "      <th>1516</th>\n",
       "      <td>олгим келеди омирдин мани калмай бара жаткандай</td>\n",
       "      <td>NaN</td>\n",
       "      <td>He seems to want to olgim ​​Whitenake mani Diana</td>\n",
       "    </tr>\n",
       "    <tr>\n",
       "      <th>1517</th>\n",
       "      <td>олгим келеди омирдин мани калмай бара жатканда...</td>\n",
       "      <td>NaN</td>\n",
       "      <td>He seems to want to olgim ​​Whitenake mani Dia...</td>\n",
       "    </tr>\n",
       "    <tr>\n",
       "      <th>1518</th>\n",
       "      <td>сенимен бирге ишким келеди ишким келеди мас бо...</td>\n",
       "      <td>NaN</td>\n",
       "      <td>At the seminar, corresponds PERSPECTIVES PERSP...</td>\n",
       "    </tr>\n",
       "    <tr>\n",
       "      <th>1519</th>\n",
       "      <td>шындыгын айтсам акем мени унатпайды еки инимне...</td>\n",
       "      <td>NaN</td>\n",
       "      <td>I Think back upright two brothers and me in th...</td>\n",
       "    </tr>\n",
       "    <tr>\n",
       "      <th>1520</th>\n",
       "      <td>кейде мен кинәсиз болсамда олгим келеди</td>\n",
       "      <td>NaN</td>\n",
       "      <td>sometimes kïnäsïz bolsamda olgïm expressed</td>\n",
       "    </tr>\n",
       "    <tr>\n",
       "      <th>1521</th>\n",
       "      <td>менин туган анам мен огей акем бар жане сол ак...</td>\n",
       "      <td>NaN</td>\n",
       "      <td>my mom and I have ogey Ake Stan left the runwa...</td>\n",
       "    </tr>\n",
       "    <tr>\n",
       "      <th>1522</th>\n",
       "      <td>мен мына омирден тунилип шаршап кеттим осы уақ...</td>\n",
       "      <td>NaN</td>\n",
       "      <td>I'm Tired of Homer tunilip this time, I say th...</td>\n",
       "    </tr>\n",
       "    <tr>\n",
       "      <th>1523</th>\n",
       "      <td>олгим келеди жии кулсемде ишимде муным көп деп...</td>\n",
       "      <td>NaN</td>\n",
       "      <td>olgim ​​enterprise kulsemde matter, I wanna do...</td>\n",
       "    </tr>\n",
       "    <tr>\n",
       "      <th>1524</th>\n",
       "      <td>маган бари карап омириме катты кызыгады бирак ...</td>\n",
       "      <td>NaN</td>\n",
       "      <td>i Bari omïrïme watching Hard kızıgadı But Meni...</td>\n",
       "    </tr>\n",
       "    <tr>\n",
       "      <th>1525</th>\n",
       "      <td>ешким жок бир жакка кашып кетсемгой каникул ба...</td>\n",
       "      <td>NaN</td>\n",
       "      <td>There eşkim mat ketsemgoy vacation bastalgalı ...</td>\n",
       "    </tr>\n",
       "    <tr>\n",
       "      <th>1526</th>\n",
       "      <td>кейде омирден жалгатында кун болады екен расын...</td>\n",
       "      <td>NaN</td>\n",
       "      <td>Homer sometimes a day can be redeemed jalgatın...</td>\n",
       "    </tr>\n",
       "    <tr>\n",
       "      <th>1527</th>\n",
       "      <td>баринен жалыктым олгим келеди бул ой мени маза...</td>\n",
       "      <td>NaN</td>\n",
       "      <td>Barry jalıktım bothering me, this corresponds ...</td>\n",
       "    </tr>\n",
       "    <tr>\n",
       "      <th>1528</th>\n",
       "      <td>неге бари киын осы өмирден шаршадым тек олгим ...</td>\n",
       "      <td>NaN</td>\n",
       "      <td>Why am tired of Bari difficult this ömïrden on...</td>\n",
       "    </tr>\n",
       "    <tr>\n",
       "      <th>1529</th>\n",
       "      <td>л ешкимге билмес бир сырымды фейк страницамен ...</td>\n",
       "      <td>NaN</td>\n",
       "      <td>l tissues eşkimge a secret stranitsamen fake ş...</td>\n",
       "    </tr>\n",
       "    <tr>\n",
       "      <th>1530</th>\n",
       "      <td>мен осы жерге жазуымнын себеби омиримнен арылм...</td>\n",
       "      <td>NaN</td>\n",
       "      <td>I record it here because omirimnen'm arılmas s...</td>\n",
       "    </tr>\n",
       "    <tr>\n",
       "      <th>1531</th>\n",
       "      <td>олгим келеди десенде болмайды бари киын</td>\n",
       "      <td>NaN</td>\n",
       "      <td>olgïm expressed gums can be difficult to Bari</td>\n",
       "    </tr>\n",
       "    <tr>\n",
       "      <th>1532</th>\n",
       "      <td>отирик кулки отирик достардан абден шаршадым</td>\n",
       "      <td>NaN</td>\n",
       "      <td>I've drawn otirik otirik friends Abell</td>\n",
       "    </tr>\n",
       "    <tr>\n",
       "      <th>1533</th>\n",
       "      <td>шаршадым баринен</td>\n",
       "      <td>NaN</td>\n",
       "      <td>I've Bari</td>\n",
       "    </tr>\n",
       "    <tr>\n",
       "      <th>1534</th>\n",
       "      <td>сколько самоубийств нужно людям чтобы понять ...</td>\n",
       "      <td>NaN</td>\n",
       "      <td>how many suicides people need to understand th...</td>\n",
       "    </tr>\n",
       "    <tr>\n",
       "      <th>1535</th>\n",
       "      <td>ештене қызык емес ешкандай ой кешпеймин ешкайс...</td>\n",
       "      <td>NaN</td>\n",
       "      <td>Red is okay not preclude keşpeymin eşkaysısı e...</td>\n",
       "    </tr>\n",
       "    <tr>\n",
       "      <th>1536</th>\n",
       "      <td>сагыныш осы соз жии еститин жанымызды коп баур...</td>\n",
       "      <td>NaN</td>\n",
       "      <td>You're not in this enterprise seem to hear muc...</td>\n",
       "    </tr>\n",
       "    <tr>\n",
       "      <th>1537</th>\n",
       "      <td>жалгыздыктан шаршадым</td>\n",
       "      <td>NaN</td>\n",
       "      <td>I've loneliness</td>\n",
       "    </tr>\n",
       "    <tr>\n",
       "      <th>1538</th>\n",
       "      <td>мен сол адамды жаксы кореймин бирак ол баска а...</td>\n",
       "      <td>NaN</td>\n",
       "      <td>I have left it Dey koreymin some other favorite</td>\n",
       "    </tr>\n",
       "    <tr>\n",
       "      <th>1539</th>\n",
       "      <td>отип жатр сенсиз кундерим</td>\n",
       "      <td>NaN</td>\n",
       "      <td>without otip Jan Kundera</td>\n",
       "    </tr>\n",
       "    <tr>\n",
       "      <th>1540</th>\n",
       "      <td>кешир мени жаралы журек ушин кешир мени пендем...</td>\n",
       "      <td>NaN</td>\n",
       "      <td>i am just stay with me CC Scratch Conference n...</td>\n",
       "    </tr>\n",
       "    <tr>\n",
       "      <th>1541</th>\n",
       "      <td>не истесем екен арылу үшін сагыныштан маза бер...</td>\n",
       "      <td>NaN</td>\n",
       "      <td>That's what istesem Agrees To Leave To Elimina...</td>\n",
       "    </tr>\n",
       "    <tr>\n",
       "      <th>1542</th>\n",
       "      <td>шынайы махаббат үнсиз келеди ойткени шын сезим...</td>\n",
       "      <td>NaN</td>\n",
       "      <td>Can the cost of real love ünsiz oytkeni first ...</td>\n",
       "    </tr>\n",
       "    <tr>\n",
       "      <th>1543</th>\n",
       "      <td>омырыме кормендер аралыспандар жымыстарын болм...</td>\n",
       "      <td>NaN</td>\n",
       "      <td>omırıme kormender aralıspandar jımıstarın guid...</td>\n",
       "    </tr>\n",
       "    <tr>\n",
       "      <th>1544</th>\n",
       "      <td>жалгыз озин журип отуин керек жолдар бар барин...</td>\n",
       "      <td>NaN</td>\n",
       "      <td>There should only jurip inequality otuin route...</td>\n",
       "    </tr>\n",
       "    <tr>\n",
       "      <th>1545</th>\n",
       "      <td>бетке кулип сырттан тилейтин надандардан шарша...</td>\n",
       "      <td>NaN</td>\n",
       "      <td>We wish to import the profile page Nekhel tire...</td>\n",
       "    </tr>\n",
       "  </tbody>\n",
       "</table>\n",
       "<p>112 rows × 3 columns</p>\n",
       "</div>"
      ],
      "text/plain": [
       "                                                   Text Possible_type  \\\n",
       "1434                                           тунилдим      Suicidal   \n",
       "1435                                    кайгырып кеттим      Suicidal   \n",
       "1436                                     шаршап кеттім       Suicidal   \n",
       "1437                                барлыгынан шаршадым      Suicidal   \n",
       "1438                                   баринен шаршадым      Suicidal   \n",
       "1439       отирик күлкі отирик достардан абден шаршадым      Suicidal   \n",
       "1440  шаршадым жамандардан озин ғана ойлайтын адамда...      Suicidal   \n",
       "1441                     баринен шаршадым олгим келеди       Suicidal   \n",
       "1442  олгим келедb түнилдим омир ден олгим келеди жа...      Suicidal   \n",
       "1443  сынагынан жалыктым жалган омирдин олгим келеди...      Suicidal   \n",
       "1444  журегим жаралы толы мунга сан сынак санамды ул...      Suicidal   \n",
       "1445                                сынакка толы тагдыр      Suicidal   \n",
       "1446  күлгим келеди күле алмаймын жылагым келеди жыл...      Suicidal   \n",
       "1447  ал кейде сол исиме окинемин кейде омирден түни...      Suicidal   \n",
       "1448  кейде армандарым орындалмағанына налимын кейде...      Suicidal   \n",
       "1449  өлгим келеди қалай онай олип калуга болады ком...      Suicidal   \n",
       "1450  гранттан куладым ата анамнан туысқандардан уят...      Suicidal   \n",
       "1451  конилим болмаи тур журегим жылап жатр мении ол...      Suicidal   \n",
       "1452  мен олгим келеди жогалтатын ешкім жоқ анам жыл...      Suicidal   \n",
       "1453  катты коркып журмин кейде типти жылап олгим ке...      Suicidal   \n",
       "1454  менин жыным келеди ашулымын бир жагынан жылагы...      Suicidal   \n",
       "1455       барлыгынан шаршадым ашуымды шыгаргым келеді       Suicidal   \n",
       "1456  достарыма да жан досыма да ренжулимин бирак ре...      Suicidal   \n",
       "1457  енди болды ешким не айтканын тындамаймын ешким...      Suicidal   \n",
       "1458  не сурасада бердим мении жыныма тиседе мени ма...      Suicidal   \n",
       "1459         мени кызым тастап кетті менин олгим келеди      Suicidal   \n",
       "1460  кыз балам озегимди ортеп барады не истеримди б...      Suicidal   \n",
       "1461  оз суйген адамыма басымды тик устап турмыс кур...      Suicidal   \n",
       "1462  осылай калам турмыс қурмайм деп жумыска салынд...      Suicidal   \n",
       "1463  оте киналып жан сырымды айтатын бир де бир жан...      Suicidal   \n",
       "...                                                 ...           ...   \n",
       "1516    олгим келеди омирдин мани калмай бара жаткандай           NaN   \n",
       "1517  олгим келеди омирдин мани калмай бара жатканда...           NaN   \n",
       "1518  сенимен бирге ишким келеди ишким келеди мас бо...           NaN   \n",
       "1519  шындыгын айтсам акем мени унатпайды еки инимне...           NaN   \n",
       "1520            кейде мен кинәсиз болсамда олгим келеди           NaN   \n",
       "1521  менин туган анам мен огей акем бар жане сол ак...           NaN   \n",
       "1522  мен мына омирден тунилип шаршап кеттим осы уақ...           NaN   \n",
       "1523  олгим келеди жии кулсемде ишимде муным көп деп...           NaN   \n",
       "1524  маган бари карап омириме катты кызыгады бирак ...           NaN   \n",
       "1525  ешким жок бир жакка кашып кетсемгой каникул ба...           NaN   \n",
       "1526  кейде омирден жалгатында кун болады екен расын...           NaN   \n",
       "1527  баринен жалыктым олгим келеди бул ой мени маза...           NaN   \n",
       "1528  неге бари киын осы өмирден шаршадым тек олгим ...           NaN   \n",
       "1529  л ешкимге билмес бир сырымды фейк страницамен ...           NaN   \n",
       "1530  мен осы жерге жазуымнын себеби омиримнен арылм...           NaN   \n",
       "1531            олгим келеди десенде болмайды бари киын           NaN   \n",
       "1532       отирик кулки отирик достардан абден шаршадым           NaN   \n",
       "1533                                   шаршадым баринен           NaN   \n",
       "1534   сколько самоубийств нужно людям чтобы понять ...           NaN   \n",
       "1535  ештене қызык емес ешкандай ой кешпеймин ешкайс...           NaN   \n",
       "1536  сагыныш осы соз жии еститин жанымызды коп баур...           NaN   \n",
       "1537                              жалгыздыктан шаршадым           NaN   \n",
       "1538  мен сол адамды жаксы кореймин бирак ол баска а...           NaN   \n",
       "1539                          отип жатр сенсиз кундерим           NaN   \n",
       "1540  кешир мени жаралы журек ушин кешир мени пендем...           NaN   \n",
       "1541  не истесем екен арылу үшін сагыныштан маза бер...           NaN   \n",
       "1542  шынайы махаббат үнсиз келеди ойткени шын сезим...           NaN   \n",
       "1543  омырыме кормендер аралыспандар жымыстарын болм...           NaN   \n",
       "1544  жалгыз озин журип отуин керек жолдар бар барин...           NaN   \n",
       "1545  бетке кулип сырттан тилейтин надандардан шарша...           NaN   \n",
       "\n",
       "                                            Translation  \n",
       "1434                                           tunildim  \n",
       "1435                                  I was troubled in  \n",
       "1436                                              tired  \n",
       "1437                                 I've had to engage  \n",
       "1438                                 I've had from Bari  \n",
       "1439           otirik otirik fun I've had friends Abell  \n",
       "1440                tired of people think only bad ozïn  \n",
       "1441                          Barry'm corresponds olgim  \n",
       "1442  olgim ​​keledb tünildim Ayala olgim ​​jalıktım...  \n",
       "1443  jalıktım false test corresponds Whitenake olgi...  \n",
       "1444  Johnny made full Moon to the left of the conti...  \n",
       "1445                       a contestant is full of Fate  \n",
       "1446  I can not cry, I can not laugh at külgïm expre...  \n",
       "1447  sometimes, she occasionally left isime okinemi...  \n",
       "1448  My dream is not fulfilled in the sometimes dre...  \n",
       "1449  ölgïm expressed how easily olïp Kaluga komekte...  \n",
       "1450         Mom fell grants ashamed of kin would olgim  \n",
       "1451              Fred Roth Jan could not want me olgim  \n",
       "1452  and olgïm expressed jogaltatın no one except m...  \n",
       "1453  toploader sometimes afraid typical letter corr...  \n",
       "1454  I want to sex mad on the one hand, corresponds...  \n",
       "1455              I've had to engage aşuımdı'd şıgargım  \n",
       "1456  friends, best friend, a little renjulimin renj...  \n",
       "1457  Farhad said that what was eşkim tındamaymın eş...  \n",
       "1458  I have to ask what are my genitals off me maza...  \n",
       "1459                  I walked my girlfriend want olgim  \n",
       "1460  What's a girl child is running ozegimdi Ortega...  \n",
       "1461  cease moon poachers, who helped pressure helic...  \n",
       "1462  I would say that's shined, қurmaym employment ...  \n",
       "1463  There is not a creation at a speed kina honest...  \n",
       "...                                                 ...  \n",
       "1516   He seems to want to olgim ​​Whitenake mani Diana  \n",
       "1517  He seems to want to olgim ​​Whitenake mani Dia...  \n",
       "1518  At the seminar, corresponds PERSPECTIVES PERSP...  \n",
       "1519  I Think back upright two brothers and me in th...  \n",
       "1520         sometimes kïnäsïz bolsamda olgïm expressed  \n",
       "1521  my mom and I have ogey Ake Stan left the runwa...  \n",
       "1522  I'm Tired of Homer tunilip this time, I say th...  \n",
       "1523  olgim ​​enterprise kulsemde matter, I wanna do...  \n",
       "1524  i Bari omïrïme watching Hard kızıgadı But Meni...  \n",
       "1525  There eşkim mat ketsemgoy vacation bastalgalı ...  \n",
       "1526  Homer sometimes a day can be redeemed jalgatın...  \n",
       "1527  Barry jalıktım bothering me, this corresponds ...  \n",
       "1528  Why am tired of Bari difficult this ömïrden on...  \n",
       "1529  l tissues eşkimge a secret stranitsamen fake ş...  \n",
       "1530  I record it here because omirimnen'm arılmas s...  \n",
       "1531      olgïm expressed gums can be difficult to Bari  \n",
       "1532             I've drawn otirik otirik friends Abell  \n",
       "1533                                          I've Bari  \n",
       "1534  how many suicides people need to understand th...  \n",
       "1535  Red is okay not preclude keşpeymin eşkaysısı e...  \n",
       "1536  You're not in this enterprise seem to hear muc...  \n",
       "1537                                    I've loneliness  \n",
       "1538    I have left it Dey koreymin some other favorite  \n",
       "1539                           without otip Jan Kundera  \n",
       "1540  i am just stay with me CC Scratch Conference n...  \n",
       "1541  That's what istesem Agrees To Leave To Elimina...  \n",
       "1542  Can the cost of real love ünsiz oytkeni first ...  \n",
       "1543  omırıme kormender aralıspandar jımıstarın guid...  \n",
       "1544  There should only jurip inequality otuin route...  \n",
       "1545  We wish to import the profile page Nekhel tire...  \n",
       "\n",
       "[112 rows x 3 columns]"
      ]
     },
     "execution_count": 84,
     "metadata": {},
     "output_type": "execute_result"
    }
   ],
   "source": [
    "df[1434:]"
   ]
  },
  {
   "cell_type": "code",
   "execution_count": 85,
   "metadata": {},
   "outputs": [],
   "source": [
    "final_df = pd.DataFrame(columns=['Post', 'Type'])"
   ]
  },
  {
   "cell_type": "code",
   "execution_count": 86,
   "metadata": {},
   "outputs": [],
   "source": [
    "final_df['Post'] = df['Translation']\n",
    "final_df['Type'] = 'Suicidal'"
   ]
  },
  {
   "cell_type": "code",
   "execution_count": 88,
   "metadata": {},
   "outputs": [],
   "source": [
    "final_df.to_excel('final_target.xlsx')"
   ]
  }
 ],
 "metadata": {
  "kernelspec": {
   "display_name": "Python 3",
   "language": "python",
   "name": "python3"
  },
  "language_info": {
   "codemirror_mode": {
    "name": "ipython",
    "version": 3
   },
   "file_extension": ".py",
   "mimetype": "text/x-python",
   "name": "python",
   "nbconvert_exporter": "python",
   "pygments_lexer": "ipython3",
   "version": "3.7.3"
  }
 },
 "nbformat": 4,
 "nbformat_minor": 2
}
