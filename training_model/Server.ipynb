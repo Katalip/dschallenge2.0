{
 "cells": [
  {
   "cell_type": "code",
   "execution_count": 1,
   "metadata": {},
   "outputs": [
    {
     "name": "stderr",
     "output_type": "stream",
     "text": [
      " * Running on http://127.0.0.1:5000/ (Press CTRL+C to quit)\n"
     ]
    }
   ],
   "source": [
    "import json\n",
    "import os\n",
    "from flask import Flask,jsonify,request\n",
    "from flask_cors import CORS\n",
    "from nltk.tokenize import word_tokenize\n",
    "from nltk import pos_tag\n",
    "from nltk.corpus import stopwords\n",
    "from nltk.stem import WordNetLemmatizer\n",
    "from sklearn.preprocessing import LabelEncoder\n",
    "from collections import defaultdict\n",
    "from nltk.corpus import wordnet as wn\n",
    "from sklearn.feature_extraction.text import TfidfVectorizer\n",
    "from sklearn.feature_extraction.text import TfidfTransformer\n",
    "from sklearn import model_selection, naive_bayes, svm\n",
    "from sklearn.metrics import accuracy_score\n",
    "import pickle\n",
    "from sklearn.feature_extraction.text import CountVectorizer\n",
    "#from su_predictor import suicide_predictor\n",
    "\n",
    "app = Flask(__name__)\n",
    "CORS(app)\n",
    "@app.route(\"/predict/\",methods=['GET'])\n",
    "def return_price():\n",
    "    text_list = []\n",
    "    #t = request.args.get('text')\n",
    "    text_list = request.args.getlist('text')\n",
    "    #text_list.append(t)\n",
    "    \n",
    "    text_list = [i.lower() for i in text_list]\n",
    "\n",
    "    # Tokenization\n",
    "    text_list = [word_tokenize(i) for i in text_list]\n",
    "    \n",
    "    tag_map = defaultdict(lambda : wn.NOUN)\n",
    "    tag_map['J'] = wn.ADJ\n",
    "    tag_map['V'] = wn.VERB\n",
    "    tag_map['R'] = wn.ADV\n",
    "\n",
    "    for index, entry in enumerate(text_list):\n",
    "        final_words = []\n",
    "        word_lemmatized = WordNetLemmatizer()\n",
    "    \n",
    "        for word, tag in pos_tag(entry):\n",
    "            if word not in stopwords.words('english') and word.isalpha():\n",
    "                word_final = word_lemmatized.lemmatize(word, tag_map[tag[0]])\n",
    "                final_words.append(word_final)\n",
    "        text_list[index] = str(final_words)      \n",
    "        \n",
    "    transformer = TfidfTransformer()\n",
    "    loaded_vec = CountVectorizer(decode_error=\"replace\",vocabulary=pickle.load(open(\"feature.pkl\", \"rb\")))\n",
    "    tfidf = transformer.fit_transform(loaded_vec.transform(text_list))\n",
    "        \n",
    "    with open('ml_svm.pkl', 'rb') as handle:\n",
    "        model = pickle.load(handle)\n",
    "\n",
    "    preds = model.predict(tfidf)\n",
    "    \n",
    "    preds = preds.tolist()\n",
    "    json.dumps({\"prediction\": preds})    \n",
    "    \n",
    "    pred_dict = {\n",
    "                'model':'svm',\n",
    "                'pred': preds,\n",
    "                }\n",
    "    return jsonify(pred_dict)\n",
    "\n",
    "@app.route(\"/\",methods=['GET'])\n",
    "def default():\n",
    "    return \"<h1> Welcome to suicide predictor <h1>\"\n",
    "\n",
    "if __name__ == \"__main__\":\n",
    "    app.run() "
   ]
  }
 ],
 "metadata": {
  "kernelspec": {
   "display_name": "Python 3",
   "language": "python",
   "name": "python3"
  },
  "language_info": {
   "codemirror_mode": {
    "name": "ipython",
    "version": 3
   },
   "file_extension": ".py",
   "mimetype": "text/x-python",
   "name": "python",
   "nbconvert_exporter": "python",
   "pygments_lexer": "ipython3",
   "version": "3.7.3"
  }
 },
 "nbformat": 4,
 "nbformat_minor": 2
}
